{
 "cells": [
  {
   "cell_type": "code",
   "execution_count": 33,
   "id": "99fb022f-8766-452a-918d-e9067b93ce25",
   "metadata": {},
   "outputs": [],
   "source": [
    "# Importing required libraries\n",
    "import pandas as pd\n",
    "import seaborn as sns\n",
    "import matplotlib.pyplot as plt\n",
    "from pyspark.sql import SparkSession\n",
    "from pyspark.sql.functions import col, sum, count, avg, when, dayofweek, month\n",
    "from pyspark.ml.feature import VectorAssembler, MinMaxScaler, StringIndexer, OneHotEncoder\n",
    "from pyspark.ml.classification import RandomForestClassifier, LogisticRegression\n",
    "from pyspark.ml.evaluation import MulticlassClassificationEvaluator\n",
    "from sklearn.metrics import confusion_matrix, classification_report"
   ]
  },
  {
   "cell_type": "code",
   "execution_count": 34,
   "id": "2d0472a5-6487-455f-b0c5-e581a8d605e1",
   "metadata": {},
   "outputs": [],
   "source": [
    "# Initialize Spark session\n",
    "spark = SparkSession.builder \\\n",
    "    .appName(\"Classification_Task\") \\\n",
    "    .config(\"spark.executor.memory\", \"2g\") \\\n",
    "    .config(\"spark.driver.memory\", \"2g\") \\\n",
    "    .config(\"spark.local.dir\", \"E:/SparkTemp\") \\\n",
    "    .getOrCreate()"
   ]
  },
  {
   "cell_type": "code",
   "execution_count": 35,
   "id": "745d7a97-2465-4a3d-bb3f-e4b869cc57c1",
   "metadata": {},
   "outputs": [],
   "source": [
    "# Load Dataset from Local File System\n",
    "data_path = r\"C:\\\\hadoop_doc\\\\Online_Retail.csv\"\n",
    "df = spark.read.csv(data_path, header=True, inferSchema=True)"
   ]
  },
  {
   "cell_type": "code",
   "execution_count": 36,
   "id": "75b4bdab-371a-4593-b9a5-de0cf1444c88",
   "metadata": {},
   "outputs": [
    {
     "name": "stdout",
     "output_type": "stream",
     "text": [
      "+---------+---------+--------------------+--------+-------------------+---------+----------+--------------+\n",
      "|InvoiceNo|StockCode|         Description|Quantity|        InvoiceDate|UnitPrice|CustomerID|       Country|\n",
      "+---------+---------+--------------------+--------+-------------------+---------+----------+--------------+\n",
      "|   536365|   85123A|WHITE HANGING HEA...|       6|2010-12-01 08:26:00|     2.55|   17850.0|United Kingdom|\n",
      "|   536365|    71053| WHITE METAL LANTERN|       6|2010-12-01 08:26:00|     3.39|   17850.0|United Kingdom|\n",
      "|   536365|   84406B|CREAM CUPID HEART...|       8|2010-12-01 08:26:00|     2.75|   17850.0|United Kingdom|\n",
      "|   536365|   84029G|KNITTED UNION FLA...|       6|2010-12-01 08:26:00|     3.39|   17850.0|United Kingdom|\n",
      "|   536365|   84029E|RED WOOLLY HOTTIE...|       6|2010-12-01 08:26:00|     3.39|   17850.0|United Kingdom|\n",
      "+---------+---------+--------------------+--------+-------------------+---------+----------+--------------+\n",
      "only showing top 5 rows\n",
      "\n"
     ]
    }
   ],
   "source": [
    "# View the first few rows\n",
    "df.show(5)  "
   ]
  },
  {
   "cell_type": "code",
   "execution_count": 37,
   "id": "22435d19-1060-42df-9d53-1b81ce88f09a",
   "metadata": {},
   "outputs": [
    {
     "data": {
      "text/plain": [
       "'# Checking data types\\ndf.printSchema()'"
      ]
     },
     "execution_count": 37,
     "metadata": {},
     "output_type": "execute_result"
    }
   ],
   "source": [
    "'''# Checking data types\n",
    "df.printSchema()'''\n"
   ]
  },
  {
   "cell_type": "code",
   "execution_count": 38,
   "id": "6d575af8-e6b9-4486-b257-5862b2284c89",
   "metadata": {},
   "outputs": [],
   "source": [
    "# Data Cleaning\n",
    "df = df.dropna().filter(col(\"Quantity\") > 0).filter(col(\"UnitPrice\") > 0)\n"
   ]
  },
  {
   "cell_type": "code",
   "execution_count": 39,
   "id": "a47fe13d-df89-4d55-a4ab-bae0056394aa",
   "metadata": {},
   "outputs": [
    {
     "name": "stdout",
     "output_type": "stream",
     "text": [
      "+---------+---------+--------------------+--------+-------------------+---------+----------+--------------+------------------+\n",
      "|InvoiceNo|StockCode|         Description|Quantity|        InvoiceDate|UnitPrice|CustomerID|       Country|       TotalAmount|\n",
      "+---------+---------+--------------------+--------+-------------------+---------+----------+--------------+------------------+\n",
      "|   536365|   85123A|WHITE HANGING HEA...|       6|2010-12-01 08:26:00|     2.55|   17850.0|United Kingdom|15.299999999999999|\n",
      "|   536365|    71053| WHITE METAL LANTERN|       6|2010-12-01 08:26:00|     3.39|   17850.0|United Kingdom|             20.34|\n",
      "|   536365|   84406B|CREAM CUPID HEART...|       8|2010-12-01 08:26:00|     2.75|   17850.0|United Kingdom|              22.0|\n",
      "|   536365|   84029G|KNITTED UNION FLA...|       6|2010-12-01 08:26:00|     3.39|   17850.0|United Kingdom|             20.34|\n",
      "|   536365|   84029E|RED WOOLLY HOTTIE...|       6|2010-12-01 08:26:00|     3.39|   17850.0|United Kingdom|             20.34|\n",
      "+---------+---------+--------------------+--------+-------------------+---------+----------+--------------+------------------+\n",
      "only showing top 5 rows\n",
      "\n"
     ]
    }
   ],
   "source": [
    "# Feature Engineering\n",
    "df = df.withColumn(\"TotalAmount\", col(\"Quantity\") * col(\"UnitPrice\")) \n",
    "df.show(5)"
   ]
  },
  {
   "cell_type": "code",
   "execution_count": 40,
   "id": "ed90e4a0-bcfe-4633-9e5f-5b59a63e32f7",
   "metadata": {},
   "outputs": [],
   "source": [
    "# Calculating total spend per customer\n",
    "spending_df = df.groupBy(\"CustomerID\").agg(sum(\"TotalAmount\").alias(\"Total_Spend\"))\n",
    "median_spend = spending_df.approxQuantile(\"Total_Spend\", [0.5], 0.0)[0]\n",
    "spending_df = spending_df.withColumn(\"HighValueCustomer\", when(col(\"Total_Spend\") > median_spend, 1).otherwise(0))\n"
   ]
  },
  {
   "cell_type": "code",
   "execution_count": 41,
   "id": "14c7c96c-48b6-4320-a4a9-21e1c2893c75",
   "metadata": {},
   "outputs": [],
   "source": [
    "# Compute features for model training\n",
    "customer_features = df.groupBy(\"CustomerID\").agg(\n",
    "    count(\"InvoiceNo\").alias(\"Purchase_Frequency\"),\n",
    "    avg(\"TotalAmount\").alias(\"Avg_Order_Value\")\n",
    ")\n",
    "\n",
    "df = df.withColumn(\"Purchase_Day\", dayofweek(col(\"InvoiceDate\")))\n",
    "df = df.withColumn(\"Purchase_Month\", month(col(\"InvoiceDate\")))\n",
    "\n",
    "time_features = df.groupBy(\"CustomerID\").agg(\n",
    "    avg(\"Purchase_Day\").alias(\"Avg_Purchase_Day\"),\n",
    "    avg(\"Purchase_Month\").alias(\"Avg_Purchase_Month\")\n",
    ")\n",
    "customer_features = customer_features.join(time_features, on=\"CustomerID\", how=\"inner\")"
   ]
  },
  {
   "cell_type": "code",
   "execution_count": 42,
   "id": "5db5721f-0c08-40cd-9264-e9bc55c3e49e",
   "metadata": {},
   "outputs": [],
   "source": [
    "# Merge features with target label\n",
    "customer_df = customer_features.join(spending_df, on=\"CustomerID\", how=\"inner\")\n"
   ]
  },
  {
   "cell_type": "code",
   "execution_count": 43,
   "id": "faf86f48-e1fa-403d-a4d0-681de22a8935",
   "metadata": {},
   "outputs": [],
   "source": [
    "# Vector Assembling\n",
    "feature_cols = [\"Purchase_Frequency\", \"Avg_Order_Value\", \"Avg_Purchase_Day\"]\n",
    "assembler = VectorAssembler(inputCols=feature_cols, outputCol=\"features\")\n",
    "customer_df = assembler.transform(customer_df)\n",
    "\n"
   ]
  },
  {
   "cell_type": "code",
   "execution_count": 44,
   "id": "bff9fc1e-ff0c-457a-abfb-f65e4d3c9564",
   "metadata": {},
   "outputs": [],
   "source": [
    "# Train-Test Split\n",
    "train_df, test_df = customer_df.randomSplit([0.8, 0.2], seed=42)"
   ]
  },
  {
   "cell_type": "code",
   "execution_count": 45,
   "id": "6d6badcc-16a7-4815-bbe9-0baef01c729c",
   "metadata": {},
   "outputs": [],
   "source": [
    "# Feature Scaling\n",
    "scaler = MinMaxScaler(inputCol=\"features\", outputCol=\"scaledFeatures\")\n",
    "scaler_model = scaler.fit(train_df)\n",
    "train_df = scaler_model.transform(train_df)\n",
    "test_df = scaler_model.transform(test_df)"
   ]
  },
  {
   "cell_type": "code",
   "execution_count": null,
   "id": "c4e2ec8b-c71d-4bcb-b5e0-c786c59b8cb9",
   "metadata": {},
   "outputs": [],
   "source": []
  },
  {
   "cell_type": "code",
   "execution_count": 46,
   "id": "5297e1fd-0ce4-4da0-90de-549206aaaebb",
   "metadata": {},
   "outputs": [],
   "source": [
    "# Train and applying Random Forest Model\n",
    "rf_classifier = RandomForestClassifier(labelCol=\"HighValueCustomer\", featuresCol=\"scaledFeatures\")\n",
    "rf_model = rf_classifier.fit(train_df)\n",
    "rf_predictions = rf_model.transform(test_df)\n"
   ]
  },
  {
   "cell_type": "code",
   "execution_count": 47,
   "id": "3c9c0c2f-684e-4411-9fee-26571f634d0c",
   "metadata": {},
   "outputs": [],
   "source": [
    "# Train and applying Logistic Regression Model\n",
    "lr_classifier = LogisticRegression(labelCol=\"HighValueCustomer\", featuresCol=\"scaledFeatures\")\n",
    "lr_model = lr_classifier.fit(train_df)\n",
    "lr_predictions = lr_model.transform(test_df)"
   ]
  },
  {
   "cell_type": "code",
   "execution_count": 48,
   "id": "6567f417-e5d3-49e1-8495-ad322dfccb11",
   "metadata": {},
   "outputs": [
    {
     "name": "stdout",
     "output_type": "stream",
     "text": [
      "Random Forest Accuracy: 0.9549\n",
      "Logistic Regression Accuracy: 0.8331\n"
     ]
    }
   ],
   "source": [
    "# Model Evaluation\n",
    "evaluator = MulticlassClassificationEvaluator(labelCol=\"HighValueCustomer\", metricName=\"accuracy\")\n",
    "rf_accuracy = evaluator.evaluate(rf_predictions)\n",
    "lr_accuracy = evaluator.evaluate(lr_predictions)\n",
    "\n",
    "print(f\"Random Forest Accuracy: {rf_accuracy:.4f}\")\n",
    "print(f\"Logistic Regression Accuracy: {lr_accuracy:.4f}\")"
   ]
  },
  {
   "cell_type": "code",
   "execution_count": 10,
   "id": "a27d77f9-8ef6-4ea5-ac4a-5aa76953050f",
   "metadata": {},
   "outputs": [],
   "source": [
    "# Convert Predictions to Pandas for Visualization\n",
    "rf_predictions_pandas = rf_predictions.select(\"HighValueCustomer\", \"prediction\").toPandas()\n",
    "lr_predictions_pandas = lr_predictions.select(\"HighValueCustomer\", \"prediction\").toPandas()\n"
   ]
  },
  {
   "cell_type": "code",
   "execution_count": null,
   "id": "7461ef80-022c-496e-bfa4-bd6d75815e11",
   "metadata": {},
   "outputs": [],
   "source": [
    "# Convert Predictions to Pandas for Visualization\n",
    "rf_predictions_pandas = rf_predictions.select(\"HighValueCustomer\", \"prediction\").toPandas()\n",
    "# Plot Confusion Matrices\n",
    "plt.figure(figsize=(6, 4))\n",
    "sns.heatmap(rf_conf_matrix, annot=True, fmt=\"d\", cmap=\"Blues\", xticklabels=[\"Low Value (0)\", \"High Value (1)\"],\n",
    "            yticklabels=[\"Low Value (0)\", \"High Value (1)\"])\n",
    "plt.xlabel(\"Predicted Label\")\n",
    "plt.ylabel(\"True Label\")\n",
    "plt.title(\"Random Forest Confusion Matrix\")\n",
    "plt.show()\n"
   ]
  },
  {
   "cell_type": "code",
   "execution_count": 11,
   "id": "d11fb52e-59c0-42b8-89e5-410930e61540",
   "metadata": {},
   "outputs": [
    {
     "data": {
      "image/png": "[encoded data removed]",
      "text/plain": [
       "<Figure size 600x400 with 2 Axes>"
      ]
     },
     "metadata": {},
     "output_type": "display_data"
    },
    {
     "data": {
      "image/png": "[encoded data removed]",
      "text/plain": [
       "<Figure size 600x400 with 2 Axes>"
      ]
     },
     "metadata": {},
     "output_type": "display_data"
    }
   ],
   "source": [
    "# Compute Confusion Matrix\n",
    "rf_conf_matrix = confusion_matrix(rf_predictions_pandas[\"HighValueCustomer\"], rf_predictions_pandas[\"prediction\"])\n",
    "lr_conf_matrix = confusion_matrix(lr_predictions_pandas[\"HighValueCustomer\"], lr_predictions_pandas[\"prediction\"])\n",
    "\n",
    "# Plot Confusion Matrices\n",
    "plt.figure(figsize=(6, 4))\n",
    "sns.heatmap(rf_conf_matrix, annot=True, fmt=\"d\", cmap=\"Blues\", xticklabels=[\"Low Value (0)\", \"High Value (1)\"],\n",
    "            yticklabels=[\"Low Value (0)\", \"High Value (1)\"])\n",
    "plt.xlabel(\"Predicted Label\")\n",
    "plt.ylabel(\"True Label\")\n",
    "plt.title(\"Random Forest Confusion Matrix\")\n",
    "plt.show()\n",
    "\n",
    "plt.figure(figsize=(6, 4))\n",
    "sns.heatmap(lr_conf_matrix, annot=True, fmt=\"d\", cmap=\"Blues\", xticklabels=[\"Low Value (0)\", \"High Value (1)\"],\n",
    "            yticklabels=[\"Low Value (0)\", \"High Value (1)\"])\n",
    "plt.xlabel(\"Predicted Label\")\n",
    "plt.ylabel(\"True Label\")\n",
    "plt.title(\"Logistic Regression Confusion Matrix\")\n",
    "plt.show()"
   ]
  },
  {
   "cell_type": "code",
   "execution_count": 14,
   "id": "7cd6a76e-6b87-4ddd-b18d-c3519560acda",
   "metadata": {},
   "outputs": [
    {
     "name": "stdout",
     "output_type": "stream",
     "text": [
      "Random Forest - Classification Report:\n",
      "               precision    recall  f1-score   support\n",
      "\n",
      "           0       0.94      0.97      0.96       425\n",
      "           1       0.97      0.94      0.95       396\n",
      "\n",
      "    accuracy                           0.96       821\n",
      "   macro avg       0.96      0.96      0.96       821\n",
      "weighted avg       0.96      0.96      0.96       821\n",
      "\n",
      "Logistic Regression - Classification Report:\n",
      "               precision    recall  f1-score   support\n",
      "\n",
      "           0       0.81      0.89      0.85       425\n",
      "           1       0.87      0.77      0.82       396\n",
      "\n",
      "    accuracy                           0.83       821\n",
      "   macro avg       0.84      0.83      0.83       821\n",
      "weighted avg       0.84      0.83      0.83       821\n",
      "\n"
     ]
    }
   ],
   "source": [
    "from sklearn.metrics import classification_report\n",
    "\n",
    "# Computing Precision, Recall, and F1-score for Random Forest\n",
    "rf_classification_report = classification_report(\n",
    "    rf_predictions_pandas[\"HighValueCustomer\"], \n",
    "    rf_predictions_pandas[\"prediction\"]\n",
    ")\n",
    "print(\"Random Forest - Classification Report:\\n\", rf_classification_report)\n",
    "\n",
    "# Compute Precision, Recall, and F1-score for Logistic Regression\n",
    "lr_classification_report = classification_report(\n",
    "    lr_predictions_pandas[\"HighValueCustomer\"], \n",
    "    lr_predictions_pandas[\"prediction\"]\n",
    ")\n",
    "print(\"Logistic Regression - Classification Report:\\n\", lr_classification_report)\n"
   ]
  },
  {
   "cell_type": "code",
   "execution_count": null,
   "id": "d964fb8d-5c87-473a-a85d-49484ffc8d93",
   "metadata": {},
   "outputs": [],
   "source": []
  },
  {
   "cell_type": "code",
   "execution_count": null,
   "id": "fa4a8a74-8818-42c8-b56f-226343a4274f",
   "metadata": {},
   "outputs": [],
   "source": [
    "\n",
    "# Stop Spark Session\n",
    "spark.stop()\n"
   ]
  }
 ],
 "metadata": {
  "kernelspec": {
   "display_name": "Python 3 (ipykernel)",
   "language": "python",
   "name": "python3"
  },
  "language_info": {
   "codemirror_mode": {
    "name": "ipython",
    "version": 3
   },
   "file_extension": ".py",
   "mimetype": "text/x-python",
   "name": "python",
   "nbconvert_exporter": "python",
   "pygments_lexer": "ipython3",
   "version": "3.11.7"
  }
 },
 "nbformat": 4,
 "nbformat_minor": 5
}
